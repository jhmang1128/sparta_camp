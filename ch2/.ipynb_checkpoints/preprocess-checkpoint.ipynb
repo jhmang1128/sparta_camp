{
 "cells": [
  {
   "cell_type": "code",
   "execution_count": null,
   "metadata": {
    "vscode": {
     "languageId": "plaintext"
    }
   },
   "outputs": [],
   "source": [
    "import pandas as pd\n",
    "import numpy as np\n",
    "from collections import Counter\n",
    "import matplotlib.pyplot as plt\n",
    "import seaborn\n",
    "import klib\n",
    "\n",
    "print('\\n')\n",
    "\n",
    "\n",
    "# 데이터 확인\n",
    "df_ciminal = pd.read_csv('./data/housingdata.csv')\n",
    "print('df_ciminal :\\n', df_ciminal, '\\n\\n')\n",
    "\n",
    "shape_df = df_ciminal.shape\n",
    "print('shape_df :\\n', shape_df, '\\n\\n')\n",
    "\n",
    "count_null_col = df_ciminal.isnull().sum()\n",
    "count_null_row = dict(Counter(list(df_ciminal.isnull().sum(1))))\n",
    "\n",
    "print('count_null_col :\\n', count_null_col, '\\n\\n')\n",
    "print('count_null_row :\\n', count_null_row, '\\n\\n')\n",
    "\n",
    "klib.missingval_plot(df_ciminal)\n",
    "\n",
    "# exit()\n"
   ]
  }
 ],
 "metadata": {
  "language_info": {
   "name": "python"
  }
 },
 "nbformat": 4,
 "nbformat_minor": 2
}
