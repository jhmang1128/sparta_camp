{
 "cells": [
  {
   "cell_type": "code",
   "execution_count": 4,
   "metadata": {},
   "outputs": [],
   "source": [
    "import openai\n",
    "\n",
    "openai.api_key = \"api-key\"\n",
    "\n",
    "user_question = str(input())\n",
    "response = openai.ChatCompletion.create(\n",
    "\tmodel=\"gpt-3.5-turbo\",\n",
    "\tmessages=[\n",
    "\t\t\t{\"role\": \"system\", \"content\": \"너는 코딩 문제를 내주는 봇이야\"},\n",
    "\t\t\t{\"role\": \"user\", \"content\": user_question }\n",
    "\t\t]\n",
    "\t)\n",
    "\n",
    "\n",
    "with open (\"./log.txt\", \"w\") as w_log:\n",
    "    print(\"user_question :\", user_question, file = w_log)\n",
    "    print(response['choices'][0]['message']['content'], file = w_log)\n",
    "    "
   ]
  },
  {
   "cell_type": "code",
   "execution_count": null,
   "metadata": {},
   "outputs": [],
   "source": []
  },
  {
   "cell_type": "code",
   "execution_count": null,
   "metadata": {},
   "outputs": [],
   "source": []
  },
  {
   "cell_type": "code",
   "execution_count": null,
   "metadata": {},
   "outputs": [],
   "source": []
  }
 ],
 "metadata": {
  "kernelspec": {
   "display_name": "openai_0",
   "language": "python",
   "name": "python3"
  },
  "language_info": {
   "codemirror_mode": {
    "name": "ipython",
    "version": 3
   },
   "file_extension": ".py",
   "mimetype": "text/x-python",
   "name": "python",
   "nbconvert_exporter": "python",
   "pygments_lexer": "ipython3",
   "version": "3.10.16"
  }
 },
 "nbformat": 4,
 "nbformat_minor": 2
}
